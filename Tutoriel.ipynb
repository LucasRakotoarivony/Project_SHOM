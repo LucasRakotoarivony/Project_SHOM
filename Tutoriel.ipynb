{
 "cells": [
  {
   "cell_type": "markdown",
   "id": "regular-mining",
   "metadata": {},
   "source": [
    "# Introduction"
   ]
  },
  {
   "cell_type": "markdown",
   "id": "better-plane",
   "metadata": {},
   "source": [
    "On utilise comme domaine un ensemble de gaussiennes qui forment des creux et des montagnes.  \n",
    "Les tourbillons vont suivre les isolignes de ce domaine."
   ]
  },
  {
   "cell_type": "markdown",
   "id": "hungarian-organic",
   "metadata": {},
   "source": [
    "# Import"
   ]
  },
  {
   "cell_type": "code",
   "execution_count": 1,
   "id": "massive-rough",
   "metadata": {},
   "outputs": [],
   "source": [
    "from utils import *\n",
    "import numpy as np\n",
    "import matplotlib.pyplot as plt\n",
    "import pandas as pd\n",
    "import seaborn as sns"
   ]
  },
  {
   "cell_type": "markdown",
   "id": "logical-basics",
   "metadata": {},
   "source": [
    "# Variable"
   ]
  },
  {
   "cell_type": "code",
   "execution_count": 2,
   "id": "exact-jesus",
   "metadata": {},
   "outputs": [],
   "source": [
    "N = 2000 #nombre de tourbillons dans le catalogue\n",
    "obs = 100 #nombre de tourbillons à prédire\n",
    "N_pred = 20 #nombre de pas de temps sur lequel on va prédire\n",
    "nb_voisin = 100 #le nombre de voisins choisis\n",
    "methods = [locally_constant_mean, locally_incremental_mean, locally_linear_mean] #les différentes méthodes possibles\n",
    "names = [\"locally_constant_mean\",\"locally_incremental_mean\",\"locally_linear_mean\"]\n",
    "index = 0 #indice de la méthode choisie\n",
    "method = methods[index] #la méthode choisie pour travailler \n",
    "k = np.random.randint(0,obs) #numéro du tourbillon que l'on va étudier"
   ]
  },
  {
   "cell_type": "markdown",
   "id": "neither-matthew",
   "metadata": {},
   "source": [
    "# Génération playground"
   ]
  },
  {
   "cell_type": "markdown",
   "id": "extraordinary-integrity",
   "metadata": {},
   "source": [
    "Dans cette partie on va générer les gaussiennes qui vont représenter notre terrain et afficher les différentes isolignes."
   ]
  },
  {
   "cell_type": "markdown",
   "id": "widespread-persian",
   "metadata": {},
   "source": [
    "On peut loader les données déjà sauvegardés"
   ]
  },
  {
   "cell_type": "code",
   "execution_count": 4,
   "id": "located-cameroon",
   "metadata": {},
   "outputs": [],
   "source": [
    "list_mean_gauss, list_covMat_gauss, X, Y, Z = load_playground()\n",
    "catalogue = load_data('data\\\\catalogue_10k.txt')\n",
    "observations =  load_data('data\\\\catalogue_obs.txt')"
   ]
  },
  {
   "cell_type": "code",
   "execution_count": null,
   "id": "ceramic-spouse",
   "metadata": {},
   "outputs": [],
   "source": [
    "print(catalogue.shape)\n",
    "print(observations.shape)"
   ]
  },
  {
   "cell_type": "markdown",
   "id": "provincial-notification",
   "metadata": {},
   "source": [
    "Soit générer les données from scratch"
   ]
  },
  {
   "cell_type": "code",
   "execution_count": null,
   "id": "abroad-lucas",
   "metadata": {},
   "outputs": [],
   "source": [
    "list_mean, list_covMat, X, Y, Z = playground()\n",
    "catalogue = generer_catalogue(N, list_mean, list_covMat)\n",
    "observations = generer_catalogue(obs, list_mean, list_covMat)[:,0,:]"
   ]
  },
  {
   "cell_type": "code",
   "execution_count": null,
   "id": "animated-poison",
   "metadata": {
    "scrolled": false
   },
   "outputs": [],
   "source": [
    "fig, ax = plt.subplots()\n",
    "ax.set_xlim(0, 10)\n",
    "ax.set_ylim(0, 10)\n",
    "CS = ax.contour(X, Y, Z.T)\n",
    "ax.clabel(CS, inline=1, fontsize=10)\n",
    "ax.set_title('playground')"
   ]
  },
  {
   "cell_type": "markdown",
   "id": "upset-thought",
   "metadata": {},
   "source": [
    "On affiche au maximum 100 différentes ellipses que nous avons généré."
   ]
  },
  {
   "cell_type": "code",
   "execution_count": null,
   "id": "single-group",
   "metadata": {},
   "outputs": [],
   "source": [
    "fig = plt.figure(0)\n",
    "ax = fig.add_subplot(111, aspect='equal')\n",
    "ax.set_ylim(0, 10)\n",
    "ax.set_xlim(0, 10)\n",
    "colors = np.random.rand(N,3)\n",
    "CS = ax.contour(X, Y, Z.T)\n",
    "ax.clabel(CS, inline=1, fontsize=10)\n",
    "ax.set_title('Tourbillons')\n",
    "for i in range(min(N,100)):\n",
    "    tourbillon1 = plot_tourbillon(catalogue[i,0,:5])\n",
    "    tourbillon2 = plot_tourbillon(catalogue[i,0,5:])\n",
    "    ax.add_artist(tourbillon1)\n",
    "    ax.add_artist(tourbillon2)\n",
    "    color = colors[i]\n",
    "    tourbillon1.set_facecolor(color)\n",
    "    tourbillon2.set_facecolor(color*0.5)"
   ]
  },
  {
   "cell_type": "markdown",
   "id": "stylish-granny",
   "metadata": {},
   "source": [
    "# Prediction"
   ]
  },
  {
   "cell_type": "code",
   "execution_count": null,
   "id": "special-adrian",
   "metadata": {},
   "outputs": [],
   "source": [
    "true_values = list_true_value(catalogue, list_mean, list_covMat, N_pred, observations)\n",
    "predictions = list_prediction(catalogue, N_pred, observations, method, nb_voisin)"
   ]
  },
  {
   "cell_type": "markdown",
   "id": "sustained-horse",
   "metadata": {},
   "source": [
    "On a donc généré pour les observations leurs véritable comportement (list_true_value) sur N_pred pas de temps à partir du playground.  \n",
    "On a également généré les prédictions de notre méthode par rapport au catalogue original (predictions) selon la méthode choisie et le nombre de voisins"
   ]
  },
  {
   "cell_type": "code",
   "execution_count": null,
   "id": "modified-flush",
   "metadata": {},
   "outputs": [],
   "source": [
    "fig, ax = plt.subplots(figsize=(5,5))\n",
    "ax = plot_trajectory(true_values[k], ax)\n",
    "CS = ax.contour(X, Y, Z)\n",
    "ax.clabel(CS, inline=1, fontsize=10)\n",
    "ax.set_title('playground')\n",
    "ax.set_xlim(0, 10)\n",
    "ax.set_ylim(0, 10)"
   ]
  },
  {
   "cell_type": "markdown",
   "id": "lined-mapping",
   "metadata": {},
   "source": [
    "On voit que le tourbillon suit bien les isolignes"
   ]
  },
  {
   "cell_type": "code",
   "execution_count": null,
   "id": "classified-schedule",
   "metadata": {},
   "outputs": [],
   "source": [
    "fig = plt.figure(0)\n",
    "ax1 = fig.add_subplot(111, aspect='equal')\n",
    "ax1.set_ylim(0, 10)\n",
    "ax1.set_xlim(0, 10)\n",
    "ax1.set_title(names[index])\n",
    "\n",
    "CS = ax1.contour(X, Y, Z)\n",
    "ax1.clabel(CS, inline=1, fontsize=10)\n",
    "ax1.scatter(predictions[k,0,:5][0],predictions[k,0,:5][1],c=np.array([1,0.1,0]).reshape(1,-1))\n",
    "ax1.scatter(predictions[k,0,5:][0],predictions[k,0,5:][1],c=np.array([1,0.1,0.]).reshape(1,-1))\n",
    "pred = true_values[k]\n",
    "true = predictions[k]\n",
    "i = 0\n",
    "for mean in pred:\n",
    "    ax1.scatter(mean[0],mean[1],c = np.array([0.1,0.1,i/len(pred)]).reshape(1,-1))\n",
    "    i+=1\n",
    "i = 0\n",
    "for mean in true:\n",
    "    ax1.scatter(mean[0],mean[1],c = np.array([0.1,i/len(pred),0.1]).reshape(1,-1))\n",
    "    i+=1"
   ]
  },
  {
   "cell_type": "markdown",
   "id": "chinese-proceeding",
   "metadata": {},
   "source": [
    "En bleu ce sont les prédictions et en vert ce sont les vrais valeurs. Plus la prédiction est lointaine plus la couleur est claire.  \n",
    "On remarque que globalement nos prédictions sont cohérentes. Les prédictions peuvent parfois être erronées lorsque le tourbillon est à un point divergent."
   ]
  },
  {
   "cell_type": "markdown",
   "id": "extended-nevada",
   "metadata": {},
   "source": [
    "# Calcul du RMSE et Wasserstein"
   ]
  },
  {
   "cell_type": "markdown",
   "id": "exempt-eleven",
   "metadata": {},
   "source": [
    "Dans cette partie on va calculer le RMSE en fonction de l'horizon de prédiction"
   ]
  },
  {
   "cell_type": "code",
   "execution_count": null,
   "id": "cubic-breast",
   "metadata": {},
   "outputs": [],
   "source": [
    "rmse = np.mean(AnDA_RMSE(predictions[:,:,5:],true_values),axis = 0)\n",
    "plt.plot(rmse)\n",
    "plt.title('Valeur du RMSE en fonction du temps')\n",
    "plt.ylabel('RMSE')\n",
    "plt.xlabel('Temps')"
   ]
  },
  {
   "cell_type": "markdown",
   "id": "awful-solution",
   "metadata": {},
   "source": [
    "On remarque que plus la prédiction est lointaine, plus elle est incertaine. Cela est parfaitement logique."
   ]
  },
  {
   "cell_type": "code",
   "execution_count": null,
   "id": "expensive-delivery",
   "metadata": {},
   "outputs": [],
   "source": [
    "print(f'Valeur du RMSE à la prédicion 8: {rmse[8]:.2f}')"
   ]
  },
  {
   "cell_type": "markdown",
   "id": "american-restaurant",
   "metadata": {},
   "source": [
    "On réalise les mêmes tests mais cette fois en utilisant la metric Wasserstein pour comparer les tourbillons."
   ]
  },
  {
   "cell_type": "code",
   "execution_count": null,
   "id": "cardiovascular-contents",
   "metadata": {},
   "outputs": [],
   "source": [
    "wasser = np.mean(AnDA_Wasserstein(predictions[:,:,5:],true_values),axis = 0)\n",
    "plt.plot(wasser)\n",
    "plt.title('Valeur du Wasserstein en fonction du temps')\n",
    "plt.ylabel('Wasserstein')\n",
    "plt.xlabel('Temps')"
   ]
  },
  {
   "cell_type": "code",
   "execution_count": null,
   "id": "extended-knife",
   "metadata": {},
   "outputs": [],
   "source": [
    "print(f'Valeur du Wasserstein à la prédicion 8: {wasser[8]:.2f}')"
   ]
  },
  {
   "cell_type": "markdown",
   "id": "generic-black",
   "metadata": {},
   "source": [
    "# Influence des différentes hyperparamètres sur la prédiction"
   ]
  },
  {
   "cell_type": "markdown",
   "id": "favorite-wagner",
   "metadata": {},
   "source": [
    "Maintenant nous allons comparer les 3 méthodes de prédiction afin de déterminer laquelle est la plus fiable."
   ]
  },
  {
   "cell_type": "code",
   "execution_count": null,
   "id": "human-blowing",
   "metadata": {},
   "outputs": [],
   "source": [
    "colors = [\"blue\", \"red\", \"yellow\"]\n",
    "\n",
    "fig, ax = plt.subplots(figsize=(12,5))\n",
    "ax.set_ylim(0, 10)\n",
    "\n",
    "for i in range(len(names)):\n",
    "    predictions = list_prediction(catalogue, N_pred, observations, methods[i], k=50)\n",
    "\n",
    "    wasser = AnDA_Wasserstein(predictions[:,:,5:],true_values)\n",
    "    time = np.arange(wasser.shape[1])+1\n",
    "    times = np.stack([time]*wasser.shape[0], axis=0)\n",
    "    wasser_times = np.stack([wasser, times], axis=-1)\n",
    "    df = wasser_times.reshape((-1,2))\n",
    "    wasser_df = pd.DataFrame(df, columns=[\"rmse\", \"number of predictions\"])\n",
    "    plt.plot(1+np.arange(wasser.shape[1]), wasser.mean(axis=0), color=colors[i], label=names[i])\n",
    "    sns.boxplot(x=\"number of predictions\", y=\"rmse\", data=wasser_df, color=colors[i], ax=ax, boxprops=dict(alpha=.6))\n",
    "plt.legend()"
   ]
  },
  {
   "cell_type": "markdown",
   "id": "tender-malawi",
   "metadata": {},
   "source": [
    "On a donc affiché des Boxplot et courbe de la Wasserstein Metric en fonction de l'horizon de prédiction et de la méthode. Dans ce graphe là nous avons fixé le nombre de voisins et la taille du catalogue.  \n",
    "On peut remarquer que la méthode locally incremental mean est plus intéressante dans ce cas là."
   ]
  },
  {
   "cell_type": "code",
   "execution_count": null,
   "id": "bibliographic-organ",
   "metadata": {
    "scrolled": true
   },
   "outputs": [],
   "source": [
    "from matplotlib import cm\n",
    "\n",
    "voisin = [5,10,20,50]\n",
    "colors = cm.get_cmap(\"autumn\")(np.linspace(0, 1, len(voisin)))\n",
    "fig, ax = plt.subplots(figsize=(12,5))\n",
    "ax.set_title(\"Number of neighbors considered in prediction\")\n",
    "ax.set_xlabel(\"number of predictions\")\n",
    "ax.set_ylabel(\"Wasserstein\")\n",
    "\n",
    "for i in range(len(voisin)):\n",
    "    predictions = list_prediction(catalogue, N_pred, observations, method, voisin[i])\n",
    "    predictions = predictions[:,:,5:]\n",
    "\n",
    "    wasser = AnDA_Wasserstein(predictions,true_values)\n",
    "    plt.plot(1+np.arange(wasser.shape[1]), wasser.mean(axis=0), color=colors[i], label=\"Nb voisin=%i\"%(voisin[i]))\n",
    "plt.legend()"
   ]
  },
  {
   "cell_type": "markdown",
   "id": "significant-consequence",
   "metadata": {},
   "source": [
    "Cette fois ci on fait varier le nombre de voisins choisi pour faire la prédiction. On observe que ce paramètre ne fait beaucoup varier les performances car les courbes sont quasiment superposés."
   ]
  },
  {
   "cell_type": "code",
   "execution_count": null,
   "id": "saved-violin",
   "metadata": {},
   "outputs": [],
   "source": [
    "catalogue_size = [150,250,500,1000,1500]\n",
    "colors = cm.get_cmap(\"autumn\")(np.linspace(0, 1, len(catalogue_size)))\n",
    "fig, ax = plt.subplots(figsize=(12,5))\n",
    "ax.set_title(\"Size of the catalogue\")\n",
    "ax.set_xlabel(\"number of predictions\")\n",
    "ax.set_ylabel(\"RMSE\")\n",
    "\n",
    "for i in range(len(catalogue_size)):\n",
    "    predictions = list_prediction(catalogue[:catalogue_size[i]], N_pred, observations, method, k=50)\n",
    "    predictions = predictions[:,:,5:]\n",
    "\n",
    "    wasser = AnDA_Wasserstein(predictions,true_values)\n",
    "    plt.plot(np.arange(1,wasser.shape[1]+1), wasser.mean(axis=0), color=colors[i], label=\"Size catalogue=%i\"%(catalogue_size[i]))\n",
    "plt.legend()"
   ]
  },
  {
   "cell_type": "markdown",
   "id": "pregnant-stable",
   "metadata": {},
   "source": [
    "On fait maintenant varier la taille du catalogue. Comme on peut s'y attendre on améliorer nos résultats en augmentant la taille du catalogue."
   ]
  }
 ],
 "metadata": {
  "kernelspec": {
   "display_name": "Python 3",
   "language": "python",
   "name": "python3"
  },
  "language_info": {
   "codemirror_mode": {
    "name": "ipython",
    "version": 3
   },
   "file_extension": ".py",
   "mimetype": "text/x-python",
   "name": "python",
   "nbconvert_exporter": "python",
   "pygments_lexer": "ipython3",
   "version": "3.7.9"
  },
  "latex_envs": {
   "LaTeX_envs_menu_present": true,
   "autoclose": false,
   "autocomplete": true,
   "bibliofile": "biblio.bib",
   "cite_by": "apalike",
   "current_citInitial": 1,
   "eqLabelWithNumbers": true,
   "eqNumInitial": 1,
   "hotkeys": {
    "equation": "Ctrl-E",
    "itemize": "Ctrl-I"
   },
   "labels_anchors": false,
   "latex_user_defs": false,
   "report_style_numbering": false,
   "user_envs_cfg": false
  }
 },
 "nbformat": 4,
 "nbformat_minor": 5
}
